{
 "cells": [
  {
   "cell_type": "code",
   "execution_count": null,
   "id": "98b8e3a2-b9f2-4181-9807-36cdb1ea6485",
   "metadata": {
    "tags": []
   },
   "outputs": [],
   "source": [
    "import yfinance as yf\n",
    "import os\n",
    "import pandas as pd\n",
    "import pandas_datareader as data\n",
    "from sklearnex import patch_sklearn\n",
    "patch_sklearn()\n",
    "import numpy as np\n",
    "import matplotlib.pyplot as plt"
   ]
  },
  {
   "cell_type": "code",
   "execution_count": null,
   "id": "73bae4a7-ba31-4af3-89ac-f51ce594aea8",
   "metadata": {},
   "outputs": [],
   "source": [
    "tickerSymbol='AAPL'\n",
    "\n",
    "tickerData=yf.Ticker(tickerSymbol)"
   ]
  },
  {
   "cell_type": "code",
   "execution_count": null,
   "id": "e49985e9-ec52-42a3-84b2-d43bc9caf9bf",
   "metadata": {},
   "outputs": [],
   "source": [
    "df=tickerData.history(period='id',start='2010-01-01',end='2023-03-14')\n",
    "df.head()"
   ]
  },
  {
   "cell_type": "code",
   "execution_count": null,
   "id": "223c1507-627a-4323-a378-cade0a11a811",
   "metadata": {},
   "outputs": [],
   "source": [
    "df.tail()"
   ]
  },
  {
   "cell_type": "code",
   "execution_count": null,
   "id": "6383d733-32e6-4d51-87c3-51f1919bfc50",
   "metadata": {},
   "outputs": [],
   "source": [
    "df=df.reset_index()\n",
    "df.head()"
   ]
  },
  {
   "cell_type": "code",
   "execution_count": null,
   "id": "b0c5920e-66ad-421f-a2b6-cbb09847dd65",
   "metadata": {},
   "outputs": [],
   "source": [
    "df=df.drop(['Date','Dividends','Stock Splits'],axis=1)\n",
    "df.head()"
   ]
  },
  {
   "cell_type": "code",
   "execution_count": null,
   "id": "c4e3be9f-601b-441a-a07f-52adc1ecbdd9",
   "metadata": {},
   "outputs": [],
   "source": [
    "df=df.drop(['index'],axis=1)\n",
    "df.head()"
   ]
  },
  {
   "cell_type": "code",
   "execution_count": null,
   "id": "0b69aeca-b466-42d6-ace3-ecc4b9c144a4",
   "metadata": {},
   "outputs": [],
   "source": [
    "plt.plot(df.Close)\n"
   ]
  },
  {
   "cell_type": "code",
   "execution_count": null,
   "id": "261c15bb-1edc-4aba-80e5-505d7d56c7df",
   "metadata": {},
   "outputs": [],
   "source": [
    "df"
   ]
  },
  {
   "cell_type": "code",
   "execution_count": null,
   "id": "c7a4438e-6605-46ba-a0ef-500e53febd2b",
   "metadata": {},
   "outputs": [],
   "source": [
    "ma100=df.Close.rolling(100).mean()\n",
    "ma100"
   ]
  },
  {
   "cell_type": "code",
   "execution_count": null,
   "id": "477e8566-d52d-4ad6-9e90-6c13f9d20a85",
   "metadata": {},
   "outputs": [],
   "source": [
    "plt.figure(figsize = (16,8))\n",
    "plt.plot(df.Close)\n",
    "plt.plot(ma100,'r')"
   ]
  },
  {
   "cell_type": "code",
   "execution_count": null,
   "id": "613d51a0-64c2-419f-842d-c15a284f6c9f",
   "metadata": {},
   "outputs": [],
   "source": [
    "ma200=df.Close.rolling(200).mean()"
   ]
  },
  {
   "cell_type": "code",
   "execution_count": null,
   "id": "d6b74d8b-fb2f-4bfb-9be6-09d6131f053f",
   "metadata": {},
   "outputs": [],
   "source": [
    "plt.figure(figsize=(16,8))\n",
    "plt.plot(df.Close)\n",
    "plt.plot(ma100,'r')\n",
    "plt.plot(ma200,'g')"
   ]
  },
  {
   "cell_type": "code",
   "execution_count": null,
   "id": "cb35676d-c1a8-4365-9e31-938473e22fb5",
   "metadata": {},
   "outputs": [],
   "source": [
    "df.shape"
   ]
  },
  {
   "cell_type": "code",
   "execution_count": null,
   "id": "d09e55b2-e208-4268-9228-88a2e355755f",
   "metadata": {},
   "outputs": [],
   "source": [
    "#Splitting Data into Training and Testing\n",
    "data_training=pd.DataFrame(df['Close'][0:int(len(df)*0.70)])"
   ]
  },
  {
   "cell_type": "code",
   "execution_count": null,
   "id": "aa88af2a-f4a3-4c80-aa6f-9d815f27e91b",
   "metadata": {},
   "outputs": [],
   "source": [
    "data_testing=pd.DataFrame(df['Close'][int(len(df)*0.70):int(len(df))])\n",
    "print(data_training.shape)\n",
    "print(data_testing.shape)"
   ]
  },
  {
   "cell_type": "code",
   "execution_count": null,
   "id": "f9fe3821-2e83-4b64-9056-f8560e5b91ff",
   "metadata": {},
   "outputs": [],
   "source": [
    "from sklearn.preprocessing import MinMaxScaler\n",
    "scaler=MinMaxScaler(feature_range=(0,1))"
   ]
  },
  {
   "cell_type": "code",
   "execution_count": null,
   "id": "fb04487a-747f-41db-a64b-8b96fe7f77af",
   "metadata": {},
   "outputs": [],
   "source": [
    "data_training_array=scaler.fit_transform(data_training)\n",
    "data_training_array"
   ]
  },
  {
   "cell_type": "code",
   "execution_count": null,
   "id": "64c668ef-e6eb-48eb-be29-79e8beac8045",
   "metadata": {},
   "outputs": [],
   "source": [
    "#"
   ]
  },
  {
   "cell_type": "code",
   "execution_count": null,
   "id": "6b907bdb-41ed-4738-a4b4-53e4d21e6183",
   "metadata": {},
   "outputs": [],
   "source": [
    "x_train=[]\n",
    "y_train=[]\n",
    "\n",
    "for i in range(100,data_training_array.shape[0]):\n",
    "    x_train.append(data_training_array[i-100:i])\n",
    "    y_train.append(data_training_array[i,0])\n",
    "\n",
    "x_train,y_train=np.array(x_train),np.array(y_train)\n",
    "\n",
    "x_train\n",
    "\n"
   ]
  },
  {
   "cell_type": "code",
   "execution_count": null,
   "id": "6bdc38c2-037a-4295-8a66-f1538ef6df02",
   "metadata": {},
   "outputs": [],
   "source": [
    "#ML Model"
   ]
  },
  {
   "cell_type": "code",
   "execution_count": null,
   "id": "476c6744-14e0-42fd-b946-a225bb1b7d80",
   "metadata": {},
   "outputs": [],
   "source": [
    "import keras.layers"
   ]
  },
  {
   "cell_type": "code",
   "execution_count": null,
   "id": "d56dea6c-38e2-4cc3-92e2-4ca16daeec33",
   "metadata": {},
   "outputs": [],
   "source": [
    "pip install keras"
   ]
  },
  {
   "cell_type": "code",
   "execution_count": null,
   "id": "d4069139-8c16-4fec-a03a-b5302e6775a0",
   "metadata": {},
   "outputs": [],
   "source": [
    "!pip uninstall keras-nightly\n",
    "!pip uninstall -y tensorflow\n",
    "!pip install keras==2.1.6\n",
    "!pip install tensorflow==1.15.0\n",
    "!pip install h5py==2.10.0"
   ]
  },
  {
   "cell_type": "code",
   "execution_count": null,
   "id": "33ac429c-7208-4224-b664-dd356b95ac73",
   "metadata": {},
   "outputs": [],
   "source": [
    "from keras.layers import Dense,Dropout,LSTM"
   ]
  },
  {
   "cell_type": "code",
   "execution_count": null,
   "id": "83386972-1c2d-4f84-9325-2ccf5e3b0fe8",
   "metadata": {},
   "outputs": [],
   "source": [
    "from keras.models import Sequential"
   ]
  },
  {
   "cell_type": "code",
   "execution_count": null,
   "id": "4d84930a-38ad-4cdf-b059-843d14235149",
   "metadata": {},
   "outputs": [],
   "source": [
    "model=Sequential()\n",
    "model.add(LSTM(units=50,activation='relu',return_sequences=True,\n",
    "               input_shape=(x_train.shape[1],1)))\n",
    "model.add(Dropout(0.2))\n",
    "\n",
    "model.add(LSTM(units=60,activation='relu',return_sequences=True))\n",
    "model.add(Dropout(0.3))\n",
    "\n",
    "model.add(LSTM(units=80,activation='relu',return_sequences=True))\n",
    "model.add(Dropout(0.4))\n",
    "\n",
    "model.add(LSTM(units=120,activation='relu'))\n",
    "model.add(Dropout(0.5))\n",
    "\n",
    "model.add(Dense(units=1))"
   ]
  },
  {
   "cell_type": "code",
   "execution_count": null,
   "id": "a317f48c-d658-4392-ae07-298a7c998ede",
   "metadata": {},
   "outputs": [],
   "source": [
    "model.summary()"
   ]
  },
  {
   "cell_type": "code",
   "execution_count": null,
   "id": "afce8957-1f02-45ed-ba2c-65e4e640a80e",
   "metadata": {},
   "outputs": [],
   "source": [
    "model.compile(optimizer='adam',loss='mean_squared_error')\n",
    "model.fit(x_train,y_train,epochs=50)"
   ]
  },
  {
   "cell_type": "code",
   "execution_count": null,
   "id": "2797fb9c-b0cb-4a51-8b98-02b93612a776",
   "metadata": {},
   "outputs": [],
   "source": [
    "model.save('keras_model.h5')"
   ]
  },
  {
   "cell_type": "code",
   "execution_count": null,
   "id": "0390465f-6e80-4166-b174-4ff808b905d7",
   "metadata": {},
   "outputs": [],
   "source": [
    "past_100_days=data_training.tail(100)"
   ]
  },
  {
   "cell_type": "code",
   "execution_count": null,
   "id": "747efdfd-0102-4d94-ab72-aaf50fd4a597",
   "metadata": {},
   "outputs": [],
   "source": [
    "final_df=past_100_days.append(data_testing,ignore_index=True)"
   ]
  },
  {
   "cell_type": "code",
   "execution_count": null,
   "id": "c531818a-91d5-41d6-844d-a1adb95833fb",
   "metadata": {},
   "outputs": [],
   "source": [
    " x_test=[]\n",
    " y_test=[]\n"
   ]
  },
  {
   "cell_type": "code",
   "execution_count": null,
   "id": "c0b56201-3a1d-43a8-bbe8-3990237f6719",
   "metadata": {},
   "outputs": [],
   "source": [
    "input_data=scaler.fit_transform(final_df)"
   ]
  },
  {
   "cell_type": "code",
   "execution_count": null,
   "id": "657b00a8-1861-450f-95ec-e514d2918de2",
   "metadata": {},
   "outputs": [],
   "source": [
    "input_data"
   ]
  },
  {
   "cell_type": "code",
   "execution_count": null,
   "id": "022fee7c-6d06-4cdb-9dfb-9c36ce1c9e87",
   "metadata": {},
   "outputs": [],
   "source": [
    "input_data.shape"
   ]
  },
  {
   "cell_type": "code",
   "execution_count": null,
   "id": "a73f12a8-bb12-4eaa-b6d5-731b04263556",
   "metadata": {},
   "outputs": [],
   "source": [
    "for i in range(100,input_data.shape[0]):\n",
    "    x_test.append(input_data[i-100:i])\n",
    "    y_test.append(input_data[i,0])"
   ]
  },
  {
   "cell_type": "code",
   "execution_count": null,
   "id": "ae9f7832-e104-4269-9b65-38157c85a26d",
   "metadata": {},
   "outputs": [],
   "source": [
    "x_test,y_test=np.array(x_test),np.array(y_test)\n",
    "print(x_test.shape)\n",
    "print(y_test.shape)"
   ]
  },
  {
   "cell_type": "code",
   "execution_count": null,
   "id": "7262800d-7e59-460c-bf35-0d708d1ac6c1",
   "metadata": {},
   "outputs": [],
   "source": [
    "y_predicted=model.predict(x_test)\n",
    "y_predicted.shape"
   ]
  },
  {
   "cell_type": "code",
   "execution_count": null,
   "id": "168dc4f8-3fb6-4fde-8508-966cbfefd5c2",
   "metadata": {},
   "outputs": [],
   "source": [
    "y_test"
   ]
  },
  {
   "cell_type": "code",
   "execution_count": null,
   "id": "8f853f95-31c5-4192-9263-b4dc7e066e90",
   "metadata": {},
   "outputs": [],
   "source": [
    "scaler.scale_"
   ]
  },
  {
   "cell_type": "code",
   "execution_count": null,
   "id": "005c7f88-7515-4224-a2db-8972c7da5426",
   "metadata": {},
   "outputs": [],
   "source": [
    "scale_factor=1/0.00928253\n",
    "y_predicted=y_predicted*scale_factor\n",
    "y_test=y_test*scale_factor"
   ]
  },
  {
   "cell_type": "code",
   "execution_count": null,
   "id": "33b07983-112b-417c-b3aa-2c22e9f4771e",
   "metadata": {},
   "outputs": [],
   "source": [
    "plt.figure(figsize=(16,8))\n",
    "plt.plot(y_test,'b',label='Original_Price' )\n",
    "plt.plot(y_predicted,'r',label='Predicted_Price')\n",
    "plt.xlabel('Time')\n",
    "plt.ylabel('Price')\n",
    "plt.legend()\n",
    "plt.show()"
   ]
  },
  {
   "cell_type": "code",
   "execution_count": null,
   "id": "5d24cf98-a02f-4ff9-8bd0-5e1cfc8c32aa",
   "metadata": {},
   "outputs": [],
   "source": []
  }
 ],
 "metadata": {
  "kernelspec": {
   "display_name": "Python 3 (OpenVINO 2020.3.2 LTS)",
   "language": "python",
   "name": "c003-python_3_lts"
  },
  "language_info": {
   "codemirror_mode": {
    "name": "ipython",
    "version": 3
   },
   "file_extension": ".py",
   "mimetype": "text/x-python",
   "name": "python",
   "nbconvert_exporter": "python",
   "pygments_lexer": "ipython3",
   "version": "3.6.9"
  }
 },
 "nbformat": 4,
 "nbformat_minor": 5
}
