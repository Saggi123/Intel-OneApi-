{
 "cells": [
  {
   "cell_type": "code",
   "execution_count": 1,
   "id": "442f0c6e-68be-48ee-b942-9e10820d2127",
   "metadata": {},
   "outputs": [],
   "source": [
    "import yfinance as yf\n",
    "import pandas as pd\n",
    "import pandas_datareader as data\n",
    "import numpy as np\n",
    "import matplotlib.pyplot as plt"
   ]
  },
  {
   "cell_type": "code",
   "execution_count": 3,
   "id": "81429eab-fbe5-47a3-90ad-8e7e09b21fd8",
   "metadata": {},
   "outputs": [
    {
     "name": "stdout",
     "output_type": "stream",
     "text": [
      "Defaulting to user installation because normal site-packages is not writeable\n",
      "Requirement already satisfied: yfinance in ./.local/lib/python3.9/site-packages (0.2.12)\n",
      "Requirement already satisfied: numpy>=1.16.5 in /glob/development-tools/versions/oneapi/2023.0.1/oneapi/intelpython/python3.9/lib/python3.9/site-packages (from yfinance) (1.22.3)\n",
      "Requirement already satisfied: frozendict>=2.3.4 in ./.local/lib/python3.9/site-packages (from yfinance) (2.3.5)\n",
      "Requirement already satisfied: beautifulsoup4>=4.11.1 in ./.local/lib/python3.9/site-packages (from yfinance) (4.11.2)\n",
      "Requirement already satisfied: pytz>=2022.5 in ./.local/lib/python3.9/site-packages (from yfinance) (2022.7.1)\n",
      "Requirement already satisfied: appdirs>=1.4.4 in ./.local/lib/python3.9/site-packages (from yfinance) (1.4.4)\n",
      "Requirement already satisfied: requests>=2.26 in /glob/development-tools/versions/oneapi/2023.0.1/oneapi/intelpython/python3.9/lib/python3.9/site-packages (from yfinance) (2.28.1)\n",
      "Requirement already satisfied: cryptography>=3.3.2 in /glob/development-tools/versions/oneapi/2023.0.1/oneapi/intelpython/python3.9/lib/python3.9/site-packages (from yfinance) (38.0.1)\n",
      "Requirement already satisfied: lxml>=4.9.1 in ./.local/lib/python3.9/site-packages (from yfinance) (4.9.2)\n",
      "Requirement already satisfied: pandas>=1.3.0 in /glob/development-tools/versions/oneapi/2023.0.1/oneapi/intelpython/python3.9/lib/python3.9/site-packages (from yfinance) (1.5.1)\n",
      "Requirement already satisfied: multitasking>=0.0.7 in ./.local/lib/python3.9/site-packages (from yfinance) (0.0.11)\n",
      "Requirement already satisfied: html5lib>=1.1 in ./.local/lib/python3.9/site-packages (from yfinance) (1.1)\n",
      "Requirement already satisfied: soupsieve>1.2 in ./.local/lib/python3.9/site-packages (from beautifulsoup4>=4.11.1->yfinance) (2.4)\n",
      "Requirement already satisfied: cffi>=1.12 in /glob/development-tools/versions/oneapi/2023.0.1/oneapi/intelpython/python3.9/lib/python3.9/site-packages (from cryptography>=3.3.2->yfinance) (1.15.1)\n",
      "Requirement already satisfied: six>=1.9 in /glob/development-tools/versions/oneapi/2023.0.1/oneapi/intelpython/python3.9/lib/python3.9/site-packages (from html5lib>=1.1->yfinance) (1.16.0)\n",
      "Requirement already satisfied: webencodings in ./.local/lib/python3.9/site-packages (from html5lib>=1.1->yfinance) (0.5.1)\n",
      "Requirement already satisfied: python-dateutil>=2.8.1 in /glob/development-tools/versions/oneapi/2023.0.1/oneapi/intelpython/python3.9/lib/python3.9/site-packages (from pandas>=1.3.0->yfinance) (2.8.2)\n",
      "Requirement already satisfied: urllib3<1.27,>=1.21.1 in /glob/development-tools/versions/oneapi/2023.0.1/oneapi/intelpython/python3.9/lib/python3.9/site-packages (from requests>=2.26->yfinance) (1.26.12)\n",
      "Requirement already satisfied: charset-normalizer<3,>=2 in /glob/development-tools/versions/oneapi/2023.0.1/oneapi/intelpython/python3.9/lib/python3.9/site-packages (from requests>=2.26->yfinance) (2.0.4)\n",
      "Requirement already satisfied: certifi>=2017.4.17 in /glob/development-tools/versions/oneapi/2023.0.1/oneapi/intelpython/python3.9/lib/python3.9/site-packages (from requests>=2.26->yfinance) (2022.9.24)\n",
      "Requirement already satisfied: idna<4,>=2.5 in /glob/development-tools/versions/oneapi/2023.0.1/oneapi/intelpython/python3.9/lib/python3.9/site-packages (from requests>=2.26->yfinance) (3.4)\n",
      "Requirement already satisfied: pycparser in /glob/development-tools/versions/oneapi/2023.0.1/oneapi/intelpython/python3.9/lib/python3.9/site-packages (from cffi>=1.12->cryptography>=3.3.2->yfinance) (2.21)\n",
      "Note: you may need to restart the kernel to use updated packages.\n"
     ]
    }
   ],
   "source": [
    "pip install yfinance\n"
   ]
  },
  {
   "cell_type": "code",
   "execution_count": 2,
   "id": "32211946-7771-4de9-b80f-6ab0df6277b4",
   "metadata": {},
   "outputs": [
    {
     "name": "stderr",
     "output_type": "stream",
     "text": [
      "Intel(R) Extension for Scikit-learn* enabled (https://github.com/intel/scikit-learn-intelex)\n"
     ]
    }
   ],
   "source": [
    "from sklearnex import patch_sklearn\n",
    "patch_sklearn()\n"
   ]
  },
  {
   "cell_type": "code",
   "execution_count": 3,
   "id": "bf738946-048f-4752-a609-e06ddf5cd78f",
   "metadata": {},
   "outputs": [],
   "source": [
    "tickerSymbol='AAPL'\n",
    "\n",
    "tickerData=yf.Ticker(tickerSymbol)"
   ]
  },
  {
   "cell_type": "code",
   "execution_count": 9,
   "id": "4a33086a-fa5d-4729-b6c8-27035e1b297e",
   "metadata": {},
   "outputs": [
    {
     "name": "stdout",
     "output_type": "stream",
     "text": [
      "Defaulting to user installation because normal site-packages is not writeable\n",
      "Requirement already satisfied: pandas_datareader in ./.local/lib/python3.9/site-packages (0.10.0)\n",
      "Requirement already satisfied: requests>=2.19.0 in /glob/development-tools/versions/oneapi/2023.0.1/oneapi/intelpython/python3.9/lib/python3.9/site-packages (from pandas_datareader) (2.28.1)\n",
      "Requirement already satisfied: lxml in ./.local/lib/python3.9/site-packages (from pandas_datareader) (4.9.2)\n",
      "Requirement already satisfied: pandas>=0.23 in /glob/development-tools/versions/oneapi/2023.0.1/oneapi/intelpython/python3.9/lib/python3.9/site-packages (from pandas_datareader) (1.5.1)\n",
      "Requirement already satisfied: python-dateutil>=2.8.1 in /glob/development-tools/versions/oneapi/2023.0.1/oneapi/intelpython/python3.9/lib/python3.9/site-packages (from pandas>=0.23->pandas_datareader) (2.8.2)\n",
      "Requirement already satisfied: pytz>=2020.1 in ./.local/lib/python3.9/site-packages (from pandas>=0.23->pandas_datareader) (2022.7.1)\n",
      "Requirement already satisfied: numpy>=1.20.3 in /glob/development-tools/versions/oneapi/2023.0.1/oneapi/intelpython/python3.9/lib/python3.9/site-packages (from pandas>=0.23->pandas_datareader) (1.22.3)\n",
      "Requirement already satisfied: urllib3<1.27,>=1.21.1 in /glob/development-tools/versions/oneapi/2023.0.1/oneapi/intelpython/python3.9/lib/python3.9/site-packages (from requests>=2.19.0->pandas_datareader) (1.26.12)\n",
      "Requirement already satisfied: certifi>=2017.4.17 in /glob/development-tools/versions/oneapi/2023.0.1/oneapi/intelpython/python3.9/lib/python3.9/site-packages (from requests>=2.19.0->pandas_datareader) (2022.9.24)\n",
      "Requirement already satisfied: charset-normalizer<3,>=2 in /glob/development-tools/versions/oneapi/2023.0.1/oneapi/intelpython/python3.9/lib/python3.9/site-packages (from requests>=2.19.0->pandas_datareader) (2.0.4)\n",
      "Requirement already satisfied: idna<4,>=2.5 in /glob/development-tools/versions/oneapi/2023.0.1/oneapi/intelpython/python3.9/lib/python3.9/site-packages (from requests>=2.19.0->pandas_datareader) (3.4)\n",
      "Requirement already satisfied: six>=1.5 in /glob/development-tools/versions/oneapi/2023.0.1/oneapi/intelpython/python3.9/lib/python3.9/site-packages (from python-dateutil>=2.8.1->pandas>=0.23->pandas_datareader) (1.16.0)\n",
      "Note: you may need to restart the kernel to use updated packages.\n"
     ]
    }
   ],
   "source": [
    "pip install pandas_datareader"
   ]
  },
  {
   "cell_type": "code",
   "execution_count": 4,
   "id": "8edfd45c-1487-4b1a-a0e6-f9c90c9845c8",
   "metadata": {},
   "outputs": [
    {
     "data": {
      "text/html": [
       "<div>\n",
       "<style scoped>\n",
       "    .dataframe tbody tr th:only-of-type {\n",
       "        vertical-align: middle;\n",
       "    }\n",
       "\n",
       "    .dataframe tbody tr th {\n",
       "        vertical-align: top;\n",
       "    }\n",
       "\n",
       "    .dataframe thead th {\n",
       "        text-align: right;\n",
       "    }\n",
       "</style>\n",
       "<table border=\"1\" class=\"dataframe\">\n",
       "  <thead>\n",
       "    <tr style=\"text-align: right;\">\n",
       "      <th></th>\n",
       "      <th>Open</th>\n",
       "      <th>High</th>\n",
       "      <th>Low</th>\n",
       "      <th>Close</th>\n",
       "      <th>Volume</th>\n",
       "      <th>Dividends</th>\n",
       "      <th>Stock Splits</th>\n",
       "    </tr>\n",
       "    <tr>\n",
       "      <th>Date</th>\n",
       "      <th></th>\n",
       "      <th></th>\n",
       "      <th></th>\n",
       "      <th></th>\n",
       "      <th></th>\n",
       "      <th></th>\n",
       "      <th></th>\n",
       "    </tr>\n",
       "  </thead>\n",
       "  <tbody>\n",
       "    <tr>\n",
       "      <th>2006-03-17 00:00:00-05:00</th>\n",
       "      <td>1.968211</td>\n",
       "      <td>1.992225</td>\n",
       "      <td>1.948757</td>\n",
       "      <td>1.965476</td>\n",
       "      <td>812042000</td>\n",
       "      <td>0.0</td>\n",
       "      <td>0.0</td>\n",
       "    </tr>\n",
       "    <tr>\n",
       "      <th>2006-03-20 00:00:00-05:00</th>\n",
       "      <td>1.982498</td>\n",
       "      <td>1.989793</td>\n",
       "      <td>1.941461</td>\n",
       "      <td>1.945109</td>\n",
       "      <td>605441200</td>\n",
       "      <td>0.0</td>\n",
       "      <td>0.0</td>\n",
       "    </tr>\n",
       "    <tr>\n",
       "      <th>2006-03-21 00:00:00-05:00</th>\n",
       "      <td>1.878844</td>\n",
       "      <td>1.955749</td>\n",
       "      <td>1.866077</td>\n",
       "      <td>1.878844</td>\n",
       "      <td>1345366400</td>\n",
       "      <td>0.0</td>\n",
       "      <td>0.0</td>\n",
       "    </tr>\n",
       "    <tr>\n",
       "      <th>2006-03-22 00:00:00-05:00</th>\n",
       "      <td>1.889483</td>\n",
       "      <td>1.922616</td>\n",
       "      <td>1.862429</td>\n",
       "      <td>1.874588</td>\n",
       "      <td>1345895600</td>\n",
       "      <td>0.0</td>\n",
       "      <td>0.0</td>\n",
       "    </tr>\n",
       "    <tr>\n",
       "      <th>2006-03-23 00:00:00-05:00</th>\n",
       "      <td>1.879147</td>\n",
       "      <td>1.881579</td>\n",
       "      <td>1.811970</td>\n",
       "      <td>1.828688</td>\n",
       "      <td>1427826400</td>\n",
       "      <td>0.0</td>\n",
       "      <td>0.0</td>\n",
       "    </tr>\n",
       "  </tbody>\n",
       "</table>\n",
       "</div>"
      ],
      "text/plain": [
       "                               Open      High       Low     Close      Volume  \\\n",
       "Date                                                                            \n",
       "2006-03-17 00:00:00-05:00  1.968211  1.992225  1.948757  1.965476   812042000   \n",
       "2006-03-20 00:00:00-05:00  1.982498  1.989793  1.941461  1.945109   605441200   \n",
       "2006-03-21 00:00:00-05:00  1.878844  1.955749  1.866077  1.878844  1345366400   \n",
       "2006-03-22 00:00:00-05:00  1.889483  1.922616  1.862429  1.874588  1345895600   \n",
       "2006-03-23 00:00:00-05:00  1.879147  1.881579  1.811970  1.828688  1427826400   \n",
       "\n",
       "                           Dividends  Stock Splits  \n",
       "Date                                                \n",
       "2006-03-17 00:00:00-05:00        0.0           0.0  \n",
       "2006-03-20 00:00:00-05:00        0.0           0.0  \n",
       "2006-03-21 00:00:00-05:00        0.0           0.0  \n",
       "2006-03-22 00:00:00-05:00        0.0           0.0  \n",
       "2006-03-23 00:00:00-05:00        0.0           0.0  "
      ]
     },
     "execution_count": 4,
     "metadata": {},
     "output_type": "execute_result"
    }
   ],
   "source": [
    "df=tickerData.history(period='204mo')\n",
    "df.head()"
   ]
  },
  {
   "cell_type": "code",
   "execution_count": 5,
   "id": "fb989e27-b59c-410f-b2c4-63cd00abd546",
   "metadata": {},
   "outputs": [
    {
     "data": {
      "text/html": [
       "<div>\n",
       "<style scoped>\n",
       "    .dataframe tbody tr th:only-of-type {\n",
       "        vertical-align: middle;\n",
       "    }\n",
       "\n",
       "    .dataframe tbody tr th {\n",
       "        vertical-align: top;\n",
       "    }\n",
       "\n",
       "    .dataframe thead th {\n",
       "        text-align: right;\n",
       "    }\n",
       "</style>\n",
       "<table border=\"1\" class=\"dataframe\">\n",
       "  <thead>\n",
       "    <tr style=\"text-align: right;\">\n",
       "      <th></th>\n",
       "      <th>Date</th>\n",
       "      <th>Open</th>\n",
       "      <th>High</th>\n",
       "      <th>Low</th>\n",
       "      <th>Close</th>\n",
       "      <th>Volume</th>\n",
       "      <th>Dividends</th>\n",
       "      <th>Stock Splits</th>\n",
       "    </tr>\n",
       "  </thead>\n",
       "  <tbody>\n",
       "    <tr>\n",
       "      <th>0</th>\n",
       "      <td>2006-03-17 00:00:00-05:00</td>\n",
       "      <td>1.968211</td>\n",
       "      <td>1.992225</td>\n",
       "      <td>1.948757</td>\n",
       "      <td>1.965476</td>\n",
       "      <td>812042000</td>\n",
       "      <td>0.0</td>\n",
       "      <td>0.0</td>\n",
       "    </tr>\n",
       "    <tr>\n",
       "      <th>1</th>\n",
       "      <td>2006-03-20 00:00:00-05:00</td>\n",
       "      <td>1.982498</td>\n",
       "      <td>1.989793</td>\n",
       "      <td>1.941461</td>\n",
       "      <td>1.945109</td>\n",
       "      <td>605441200</td>\n",
       "      <td>0.0</td>\n",
       "      <td>0.0</td>\n",
       "    </tr>\n",
       "    <tr>\n",
       "      <th>2</th>\n",
       "      <td>2006-03-21 00:00:00-05:00</td>\n",
       "      <td>1.878844</td>\n",
       "      <td>1.955749</td>\n",
       "      <td>1.866077</td>\n",
       "      <td>1.878844</td>\n",
       "      <td>1345366400</td>\n",
       "      <td>0.0</td>\n",
       "      <td>0.0</td>\n",
       "    </tr>\n",
       "    <tr>\n",
       "      <th>3</th>\n",
       "      <td>2006-03-22 00:00:00-05:00</td>\n",
       "      <td>1.889483</td>\n",
       "      <td>1.922616</td>\n",
       "      <td>1.862429</td>\n",
       "      <td>1.874588</td>\n",
       "      <td>1345895600</td>\n",
       "      <td>0.0</td>\n",
       "      <td>0.0</td>\n",
       "    </tr>\n",
       "    <tr>\n",
       "      <th>4</th>\n",
       "      <td>2006-03-23 00:00:00-05:00</td>\n",
       "      <td>1.879147</td>\n",
       "      <td>1.881579</td>\n",
       "      <td>1.811970</td>\n",
       "      <td>1.828688</td>\n",
       "      <td>1427826400</td>\n",
       "      <td>0.0</td>\n",
       "      <td>0.0</td>\n",
       "    </tr>\n",
       "  </tbody>\n",
       "</table>\n",
       "</div>"
      ],
      "text/plain": [
       "                       Date      Open      High       Low     Close  \\\n",
       "0 2006-03-17 00:00:00-05:00  1.968211  1.992225  1.948757  1.965476   \n",
       "1 2006-03-20 00:00:00-05:00  1.982498  1.989793  1.941461  1.945109   \n",
       "2 2006-03-21 00:00:00-05:00  1.878844  1.955749  1.866077  1.878844   \n",
       "3 2006-03-22 00:00:00-05:00  1.889483  1.922616  1.862429  1.874588   \n",
       "4 2006-03-23 00:00:00-05:00  1.879147  1.881579  1.811970  1.828688   \n",
       "\n",
       "       Volume  Dividends  Stock Splits  \n",
       "0   812042000        0.0           0.0  \n",
       "1   605441200        0.0           0.0  \n",
       "2  1345366400        0.0           0.0  \n",
       "3  1345895600        0.0           0.0  \n",
       "4  1427826400        0.0           0.0  "
      ]
     },
     "execution_count": 5,
     "metadata": {},
     "output_type": "execute_result"
    }
   ],
   "source": [
    "df=df.reset_index()\n",
    "df.head()"
   ]
  },
  {
   "cell_type": "code",
   "execution_count": 6,
   "id": "5494a104-d444-46d8-949a-4ff71ecbe665",
   "metadata": {},
   "outputs": [
    {
     "data": {
      "text/html": [
       "<div>\n",
       "<style scoped>\n",
       "    .dataframe tbody tr th:only-of-type {\n",
       "        vertical-align: middle;\n",
       "    }\n",
       "\n",
       "    .dataframe tbody tr th {\n",
       "        vertical-align: top;\n",
       "    }\n",
       "\n",
       "    .dataframe thead th {\n",
       "        text-align: right;\n",
       "    }\n",
       "</style>\n",
       "<table border=\"1\" class=\"dataframe\">\n",
       "  <thead>\n",
       "    <tr style=\"text-align: right;\">\n",
       "      <th></th>\n",
       "      <th>Open</th>\n",
       "      <th>High</th>\n",
       "      <th>Low</th>\n",
       "      <th>Close</th>\n",
       "      <th>Volume</th>\n",
       "    </tr>\n",
       "  </thead>\n",
       "  <tbody>\n",
       "    <tr>\n",
       "      <th>0</th>\n",
       "      <td>1.968211</td>\n",
       "      <td>1.992225</td>\n",
       "      <td>1.948757</td>\n",
       "      <td>1.965476</td>\n",
       "      <td>812042000</td>\n",
       "    </tr>\n",
       "    <tr>\n",
       "      <th>1</th>\n",
       "      <td>1.982498</td>\n",
       "      <td>1.989793</td>\n",
       "      <td>1.941461</td>\n",
       "      <td>1.945109</td>\n",
       "      <td>605441200</td>\n",
       "    </tr>\n",
       "    <tr>\n",
       "      <th>2</th>\n",
       "      <td>1.878844</td>\n",
       "      <td>1.955749</td>\n",
       "      <td>1.866077</td>\n",
       "      <td>1.878844</td>\n",
       "      <td>1345366400</td>\n",
       "    </tr>\n",
       "    <tr>\n",
       "      <th>3</th>\n",
       "      <td>1.889483</td>\n",
       "      <td>1.922616</td>\n",
       "      <td>1.862429</td>\n",
       "      <td>1.874588</td>\n",
       "      <td>1345895600</td>\n",
       "    </tr>\n",
       "    <tr>\n",
       "      <th>4</th>\n",
       "      <td>1.879147</td>\n",
       "      <td>1.881579</td>\n",
       "      <td>1.811970</td>\n",
       "      <td>1.828688</td>\n",
       "      <td>1427826400</td>\n",
       "    </tr>\n",
       "  </tbody>\n",
       "</table>\n",
       "</div>"
      ],
      "text/plain": [
       "       Open      High       Low     Close      Volume\n",
       "0  1.968211  1.992225  1.948757  1.965476   812042000\n",
       "1  1.982498  1.989793  1.941461  1.945109   605441200\n",
       "2  1.878844  1.955749  1.866077  1.878844  1345366400\n",
       "3  1.889483  1.922616  1.862429  1.874588  1345895600\n",
       "4  1.879147  1.881579  1.811970  1.828688  1427826400"
      ]
     },
     "execution_count": 6,
     "metadata": {},
     "output_type": "execute_result"
    }
   ],
   "source": [
    "df=df.drop(['Date','Dividends','Stock Splits'],axis=1)\n",
    "df.head()"
   ]
  },
  {
   "cell_type": "code",
   "execution_count": 7,
   "id": "7d79573c-0a93-41b9-a786-969001a43657",
   "metadata": {},
   "outputs": [
    {
     "data": {
      "text/plain": [
       "[<matplotlib.lines.Line2D at 0x7fe465e37a00>]"
      ]
     },
     "execution_count": 7,
     "metadata": {},
     "output_type": "execute_result"
    },
    {
     "data": {
      "image/png": "[encoded data removed]",
      "text/plain": [
       "<Figure size 640x480 with 1 Axes>"
      ]
     },
     "metadata": {},
     "output_type": "display_data"
    }
   ],
   "source": [
    "plt.plot(df.Close)"
   ]
  },
  {
   "cell_type": "code",
   "execution_count": 8,
   "id": "4ed4fd11-c50f-44bd-887d-db0287b5e8d0",
   "metadata": {},
   "outputs": [
    {
     "data": {
      "text/plain": [
       "0              NaN\n",
       "1              NaN\n",
       "2              NaN\n",
       "3              NaN\n",
       "4              NaN\n",
       "           ...    \n",
       "4274    143.467158\n",
       "4275    143.552284\n",
       "4276    143.645252\n",
       "4277    143.741124\n",
       "4278    143.870281\n",
       "Name: Close, Length: 4279, dtype: float64"
      ]
     },
     "execution_count": 8,
     "metadata": {},
     "output_type": "execute_result"
    }
   ],
   "source": [
    "ma100=df.Close.rolling(100).mean()\n",
    "ma100"
   ]
  },
  {
   "cell_type": "code",
   "execution_count": 27,
   "id": "fa53165c-c84c-4a65-9db2-573fffc2ecc2",
   "metadata": {},
   "outputs": [
    {
     "data": {
      "text/plain": [
       "[<matplotlib.lines.Line2D at 0x7f3f593eee50>]"
      ]
     },
     "execution_count": 27,
     "metadata": {},
     "output_type": "execute_result"
    },
    {
     "data": {
      "image/png": "[encoded data removed]",
      "text/plain": [
       "<Figure size 1600x800 with 1 Axes>"
      ]
     },
     "metadata": {},
     "output_type": "display_data"
    }
   ],
   "source": [
    "plt.figure(figsize = (16,8))\n",
    "plt.plot(df.Close)\n",
    "plt.plot(ma100,'r')"
   ]
  },
  {
   "cell_type": "code",
   "execution_count": null,
   "id": "1072a2f3-9fa8-42b9-8683-90d6b2f26d0d",
   "metadata": {},
   "outputs": [],
   "source": [
    "ma200=df.Close.rolling(200).mean()\n",
    "plt.figure(figsize=(16,8))\n",
    "plt.plot(df.Close)\n",
    "plt.plot(ma100,'r')\n",
    "plt.plot(ma200,'g')"
   ]
  },
  {
   "cell_type": "code",
   "execution_count": 36,
   "id": "096714ac-a5c8-41d8-8031-8cd5e68bc608",
   "metadata": {},
   "outputs": [],
   "source": [
    "data_training=pd.DataFrame(df['Close'][0:int(len(df)*0.70)])"
   ]
  },
  {
   "cell_type": "code",
   "execution_count": 38,
   "id": "d5e58c5a-7858-43cb-ba32-cbe06a854baf",
   "metadata": {},
   "outputs": [
    {
     "name": "stdout",
     "output_type": "stream",
     "text": [
      "(2995, 1)\n",
      "(1284, 1)\n"
     ]
    }
   ],
   "source": [
    "data_testing=pd.DataFrame(df['Close'][int(len(df)*0.70):int(len(df))])\n",
    "print(data_training.shape)\n",
    "print(data_testing.shape)"
   ]
  },
  {
   "cell_type": "code",
   "execution_count": 39,
   "id": "83936c8f-d133-4eff-9fa8-23f333dee783",
   "metadata": {},
   "outputs": [],
   "source": [
    "from sklearn.preprocessing import MinMaxScaler\n",
    "scaler=MinMaxScaler(feature_range=(0,1))"
   ]
  },
  {
   "cell_type": "code",
   "execution_count": 40,
   "id": "3448a0c9-d8d4-4eee-b269-95476b065a2b",
   "metadata": {},
   "outputs": [
    {
     "data": {
      "text/plain": [
       "array([[0.01036969],\n",
       "       [0.00987307],\n",
       "       [0.00825721],\n",
       "       ...,\n",
       "       [0.86820733],\n",
       "       [0.90606084],\n",
       "       [0.88586069]])"
      ]
     },
     "execution_count": 40,
     "metadata": {},
     "output_type": "execute_result"
    }
   ],
   "source": [
    "data_training_array=scaler.fit_transform(data_training)\n",
    "data_training_array"
   ]
  },
  {
   "cell_type": "code",
   "execution_count": 41,
   "id": "e623ff17-cb51-4d4e-8299-4b653d034763",
   "metadata": {},
   "outputs": [
    {
     "data": {
      "text/plain": [
       "array([[[0.01036969],\n",
       "        [0.00987307],\n",
       "        [0.00825721],\n",
       "        ...,\n",
       "        [0.01306776],\n",
       "        [0.01225981],\n",
       "        [0.01045866]],\n",
       "\n",
       "       [[0.00987307],\n",
       "        [0.00825721],\n",
       "        [0.00815345],\n",
       "        ...,\n",
       "        [0.01225981],\n",
       "        [0.01045866],\n",
       "        [0.00957658]],\n",
       "\n",
       "       [[0.00825721],\n",
       "        [0.00815345],\n",
       "        [0.00703419],\n",
       "        ...,\n",
       "        [0.01045866],\n",
       "        [0.00957658],\n",
       "        [0.00993237]],\n",
       "\n",
       "       ...,\n",
       "\n",
       "       [[0.89016594],\n",
       "        [0.88318729],\n",
       "        [0.87528616],\n",
       "        ...,\n",
       "        [0.93152798],\n",
       "        [0.93355396],\n",
       "        [0.89141706]],\n",
       "\n",
       "       [[0.88318729],\n",
       "        [0.87528616],\n",
       "        [0.88451394],\n",
       "        ...,\n",
       "        [0.93355396],\n",
       "        [0.89141706],\n",
       "        [0.86820733]],\n",
       "\n",
       "       [[0.87528616],\n",
       "        [0.88451394],\n",
       "        [0.87753548],\n",
       "        ...,\n",
       "        [0.89141706],\n",
       "        [0.86820733],\n",
       "        [0.90606084]]])"
      ]
     },
     "execution_count": 41,
     "metadata": {},
     "output_type": "execute_result"
    }
   ],
   "source": [
    "x_train=[]\n",
    "y_train=[]\n",
    "\n",
    "for i in range(100,data_training_array.shape[0]):\n",
    "    x_train.append(data_training_array[i-100:i])\n",
    "    y_train.append(data_training_array[i,0])\n",
    "\n",
    "x_train,y_train=np.array(x_train),np.array(y_train)\n",
    "\n",
    "x_train\n",
    "\n"
   ]
  },
  {
   "cell_type": "code",
   "execution_count": null,
   "id": "6a82542f-23f5-4319-93a4-362ea80e1fba",
   "metadata": {},
   "outputs": [],
   "source": [
    "import os\n",
    "os.environ['TF_ENABLE_ONEDNN_OPTS'] = '1'\n",
    "os.environ['TF_ENABLE_AUTO_MIXED_PRECISION'] = '1'\n",
    "import tensorflow as tf \n",
    "tf.random.set_seed(3)\n",
    "from tensorflow.python.keras import backend as K\n",
    "from tensorflow.keras.layers import Dense,Dropout,Layer,LSTM\n",
    "\n"
   ]
  },
  {
   "cell_type": "code",
   "execution_count": 43,
   "id": "ee2d9ad0-8297-433e-97f2-4e8ef10e9e84",
   "metadata": {},
   "outputs": [],
   "source": [
    "from tensorflow.keras.models import Sequential"
   ]
  },
  {
   "cell_type": "code",
   "execution_count": 44,
   "id": "6b53870e-8d3f-4b7e-824b-8ed46b79bd25",
   "metadata": {},
   "outputs": [],
   "source": [
    "model=Sequential()\n",
    "model.add(LSTM(units=50,activation='relu',return_sequences=True,\n",
    "               input_shape=(x_train.shape[1],1)))\n",
    "model.add(Dropout(0.2))\n",
    "\n",
    "model.add(LSTM(units=60,activation='relu',return_sequences=True))\n",
    "model.add(Dropout(0.3))\n",
    "\n",
    "model.add(LSTM(units=80,activation='relu',return_sequences=True))\n",
    "model.add(Dropout(0.4))\n",
    "\n",
    "model.add(LSTM(units=120,activation='relu'))\n",
    "model.add(Dropout(0.5))\n",
    "\n",
    "model.add(Dense(units=1))"
   ]
  },
  {
   "cell_type": "code",
   "execution_count": 45,
   "id": "6ec5f1b3-efb2-43a3-9d54-fe4116ec198b",
   "metadata": {},
   "outputs": [
    {
     "name": "stdout",
     "output_type": "stream",
     "text": [
      "Model: \"sequential_2\"\n",
      "_________________________________________________________________\n",
      " Layer (type)                Output Shape              Param #   \n",
      "=================================================================\n",
      " lstm_4 (LSTM)               (None, 100, 50)           10400     \n",
      "                                                                 \n",
      " dropout_4 (Dropout)         (None, 100, 50)           0         \n",
      "                                                                 \n",
      " lstm_5 (LSTM)               (None, 100, 60)           26640     \n",
      "                                                                 \n",
      " dropout_5 (Dropout)         (None, 100, 60)           0         \n",
      "                                                                 \n",
      " lstm_6 (LSTM)               (None, 100, 80)           45120     \n",
      "                                                                 \n",
      " dropout_6 (Dropout)         (None, 100, 80)           0         \n",
      "                                                                 \n",
      " lstm_7 (LSTM)               (None, 120)               96480     \n",
      "                                                                 \n",
      " dropout_7 (Dropout)         (None, 120)               0         \n",
      "                                                                 \n",
      " dense_1 (Dense)             (None, 1)                 121       \n",
      "                                                                 \n",
      "=================================================================\n",
      "Total params: 178,761\n",
      "Trainable params: 178,761\n",
      "Non-trainable params: 0\n",
      "_________________________________________________________________\n"
     ]
    }
   ],
   "source": [
    "model.summary()"
   ]
  },
  {
   "cell_type": "code",
   "execution_count": 46,
   "id": "e8b96aaa-adef-4c81-8e90-0f52720506c0",
   "metadata": {},
   "outputs": [
    {
     "name": "stdout",
     "output_type": "stream",
     "text": [
      "Epoch 1/50\n",
      "91/91 [==============================] - 25s 275ms/step - loss: 0.0046\n",
      "Epoch 4/50\n",
      "91/91 [==============================] - 25s 273ms/step - loss: 0.0045\n",
      "Epoch 5/50\n",
      "91/91 [==============================] - 25s 275ms/step - loss: 0.0040\n",
      "Epoch 6/50\n",
      "91/91 [==============================] - 25s 277ms/step - loss: 0.0035\n",
      "Epoch 7/50\n",
      "91/91 [==============================] - 25s 274ms/step - loss: 0.0039\n",
      "Epoch 8/50\n",
      "91/91 [==============================] - 25s 276ms/step - loss: 0.0036\n",
      "Epoch 9/50\n",
      "91/91 [==============================] - 25s 273ms/step - loss: 0.0036\n",
      "Epoch 10/50\n",
      "91/91 [==============================] - 25s 275ms/step - loss: 0.0034\n",
      "Epoch 11/50\n",
      "91/91 [==============================] - 25s 276ms/step - loss: 0.0029\n",
      "Epoch 12/50\n",
      "91/91 [==============================] - 25s 274ms/step - loss: 0.0030\n",
      "Epoch 13/50\n",
      "91/91 [==============================] - 25s 276ms/step - loss: 0.0030\n",
      "Epoch 14/50\n",
      "91/91 [==============================] - 25s 273ms/step - loss: 0.0028\n",
      "Epoch 15/50\n",
      "91/91 [==============================] - 25s 275ms/step - loss: 0.0027\n",
      "Epoch 16/50\n",
      "91/91 [==============================] - 25s 275ms/step - loss: 0.0027\n",
      "Epoch 17/50\n",
      "91/91 [==============================] - 25s 276ms/step - loss: 0.0025\n",
      "Epoch 18/50\n",
      "91/91 [==============================] - 25s 276ms/step - loss: 0.0026\n",
      "Epoch 19/50\n",
      "91/91 [==============================] - 25s 273ms/step - loss: 0.0026\n",
      "Epoch 20/50\n",
      "91/91 [==============================] - 25s 276ms/step - loss: 0.0028\n",
      "Epoch 21/50\n",
      "91/91 [==============================] - 25s 275ms/step - loss: 0.0022\n",
      "Epoch 22/50\n",
      "91/91 [==============================] - 25s 275ms/step - loss: 0.0023\n",
      "Epoch 23/50\n",
      "91/91 [==============================] - 25s 276ms/step - loss: 0.0023\n",
      "Epoch 24/50\n",
      "91/91 [==============================] - 25s 273ms/step - loss: 0.0021\n",
      "Epoch 25/50\n",
      "91/91 [==============================] - 25s 277ms/step - loss: 0.0024\n",
      "Epoch 26/50\n",
      "91/91 [==============================] - 25s 275ms/step - loss: 0.0019\n",
      "Epoch 27/50\n",
      "91/91 [==============================] - 25s 275ms/step - loss: 0.0021\n",
      "Epoch 28/50\n",
      "91/91 [==============================] - 25s 276ms/step - loss: 0.0022\n",
      "Epoch 29/50\n",
      "91/91 [==============================] - 25s 272ms/step - loss: 0.0020\n",
      "Epoch 30/50\n",
      "91/91 [==============================] - 25s 276ms/step - loss: 0.0022\n",
      "Epoch 31/50\n",
      "91/91 [==============================] - 25s 274ms/step - loss: 0.0020\n",
      "Epoch 32/50\n",
      "91/91 [==============================] - 25s 277ms/step - loss: 0.0021\n",
      "Epoch 33/50\n",
      "91/91 [==============================] - 25s 275ms/step - loss: 0.0020\n",
      "Epoch 34/50\n",
      "91/91 [==============================] - 25s 275ms/step - loss: 0.0020\n",
      "Epoch 35/50\n",
      "91/91 [==============================] - 25s 276ms/step - loss: 0.0020\n",
      "Epoch 36/50\n",
      "91/91 [==============================] - 25s 275ms/step - loss: 0.0021\n",
      "Epoch 37/50\n",
      "91/91 [==============================] - 25s 276ms/step - loss: 0.0020\n",
      "Epoch 38/50\n",
      "91/91 [==============================] - 25s 274ms/step - loss: 0.0021\n",
      "Epoch 39/50\n",
      "91/91 [==============================] - 25s 275ms/step - loss: 0.0020\n",
      "Epoch 40/50\n",
      "91/91 [==============================] - 25s 276ms/step - loss: 0.0019\n",
      "Epoch 41/50\n",
      "91/91 [==============================] - 25s 274ms/step - loss: 0.0019\n",
      "Epoch 42/50\n",
      "91/91 [==============================] - 25s 275ms/step - loss: 0.0019\n",
      "Epoch 43/50\n",
      "91/91 [==============================] - 25s 273ms/step - loss: 0.0021\n",
      "Epoch 44/50\n",
      "91/91 [==============================] - 25s 276ms/step - loss: 0.0019\n",
      "Epoch 45/50\n",
      "91/91 [==============================] - 25s 276ms/step - loss: 0.0019\n",
      "Epoch 46/50\n",
      "91/91 [==============================] - 25s 274ms/step - loss: 0.0021\n",
      "Epoch 47/50\n",
      "91/91 [==============================] - 25s 275ms/step - loss: 0.0021\n",
      "Epoch 48/50\n",
      "91/91 [==============================] - 25s 273ms/step - loss: 0.0019\n",
      "Epoch 49/50\n",
      "91/91 [==============================] - 25s 276ms/step - loss: 0.0018\n",
      "Epoch 50/50\n",
      "91/91 [==============================] - 25s 275ms/step - loss: 0.0018\n"
     ]
    },
    {
     "data": {
      "text/plain": [
       "<keras.callbacks.History at 0x7f603c130520>"
      ]
     },
     "execution_count": 46,
     "metadata": {},
     "output_type": "execute_result"
    }
   ],
   "source": [
    "model.compile(optimizer='adam',loss='mean_squared_error')\n",
    "model.fit(x_train,y_train,epochs=50)"
   ]
  },
  {
   "cell_type": "code",
   "execution_count": null,
   "id": "05f959e5-acf5-4718-962a-4e014e90abcc",
   "metadata": {},
   "outputs": [
    {
     "name": "stdout",
     "output_type": "stream",
     "text": [
      "TensorTlow version:  2.11.0\n",
      "MKL enabled : True\n"
     ]
    },
    {
     "name": "stderr",
     "output_type": "stream",
     "text": [
      "/opt/intel/inteloneapi/intelpython/latest/lib/python3.9/site-packages/xgboost/compat.py:36: FutureWarning: pandas.Int64Index is deprecated and will be removed from pandas in a future version. Use pandas.Index with the appropriate dtype instead.\n",
      "  from pandas import MultiIndex, Int64Index\n"
     ]
    },
    {
     "name": "stdout",
     "output_type": "stream",
     "text": [
      "XGBoost Version:  1.6.0-dev\n",
      "scikit learn Version:  1.1.1\n",
      "have scikit learn ext 2021.4 :  True\n",
      "please install py-cpuinfo\n",
      "Arch :  None\n"
     ]
    }
   ],
   "source": [
    "\n",
    "#import importlib\n",
    "from importlib import util\n",
    "tensorflow_found = util.find_spec(\"tensorflow\") is not None\n",
    "pytorch_found = util.find_spec(\"torch\") is not None\n",
    "pytorch_ext_found = util.find_spec(\"intel_extension_for_pytorch\") is not None\n",
    "tensorflow_ext_found = util.find_spec(\"intel_extension_for_tensorflow\") is not None\n",
    "xgboost_found = util.find_spec(\"xgboost\") is not None\n",
    "sklearn_found = util.find_spec(\"sklearn\") is not None\n",
    "sklearnex_found = util.find_spec(\"sklearnex\") is not None\n",
    "inc_found = util.find_spec(\"neural_compressor\") is not None\n",
    "modin_found = util.find_spec(\"modin\") is not None\n",
    "torchccl_found = util.find_spec(\"oneccl_bindings_for_pytorch\") is not None\n",
    "\n",
    "class arch_checker:\n",
    "\n",
    "    def __init__(self):\n",
    "        cpuinfo_found = util.find_spec(\"cpuinfo\") is not None\n",
    "        if cpuinfo_found == False:\n",
    "            self.arch = 'None'\n",
    "            print(\"please install py-cpuinfo\")\n",
    "            return\n",
    "        from cpuinfo import get_cpu_info\n",
    "        info = get_cpu_info()\n",
    "        flags = info['flags']\n",
    "        arch_list = ['SPR', 'CPX',\"ICX|CLX\", \"SKX\", \"BDW|CORE|ATOM\"]\n",
    "        isa_list = [['amx_bf16', 'amx_int8', 'amx_tile'],['avx512_bf16'],['avx512_vnni'],['avx512'],['avx2']]\n",
    "        index = len(arch_list) - 1\n",
    "        for flag in flags:\n",
    "            for idx, isa_sublist in enumerate(isa_list):\n",
    "                for isa in isa_sublist:\n",
    "                    if isa in flag:\n",
    "                        if idx < index:\n",
    "                            index = idx\n",
    "        self.arch = arch_list[index]\n",
    "        return\n",
    "\n",
    "if tensorflow_found == True:\n",
    "\n",
    "    import tensorflow as tf\n",
    "\n",
    "    import os\n",
    "\n",
    "    def get_mkl_enabled_flag():\n",
    "\n",
    "        mkl_enabled = False\n",
    "        major_version = int(tf.__version__.split(\".\")[0])\n",
    "        minor_version = int(tf.__version__.split(\".\")[1])\n",
    "        if major_version >= 2:\n",
    "            onednn_enabled = 0\n",
    "            if minor_version < 5:\n",
    "                from tensorflow.python import _pywrap_util_port\n",
    "            else:\n",
    "                from tensorflow.python.util import _pywrap_util_port\n",
    "                onednn_enabled = int(os.environ.get('TF_ENABLE_ONEDNN_OPTS', '0'))\n",
    "            mkl_enabled = _pywrap_util_port.IsMklEnabled() or (onednn_enabled == 1)\n",
    "        else:\n",
    "            mkl_enabled = tf.pywrap_tensorflow.IsMklEnabled()\n",
    "        return mkl_enabled\n",
    "\n",
    "    print (\"TensorTlow version: \", tf.__version__)\n",
    "    print(\"MKL enabled :\", get_mkl_enabled_flag())\n",
    "    if tensorflow_ext_found == True:\n",
    "        import intel_extension_for_tensorflow as itex\n",
    "        print(\"itex_version : \", itex.__version__)\n",
    "\n",
    "if pytorch_found == True:\n",
    "    import torch\n",
    "    print(\"PyTorch Version: \", torch.__version__)\n",
    "    mkldnn_enabled = torch.backends.mkldnn.is_available()\n",
    "    mkl_enabled = torch.backends.mkl.is_available()\n",
    "    openmp_enabled = torch.backends.openmp.is_available()\n",
    "    print('mkldnn : {0},  mkl : {1}, openmp : {2}'.format(mkldnn_enabled, mkl_enabled, openmp_enabled))\n",
    "    print(torch.__config__.show())\n",
    "\n",
    "    if pytorch_ext_found == True:\n",
    "        import intel_extension_for_pytorch as ipex\n",
    "        print(\"ipex_verion : \",ipex.__version__)\n",
    "\n",
    "if xgboost_found == True:\n",
    "    import xgboost as xgb\n",
    "    print(\"XGBoost Version: \", xgb.__version__)\n",
    "\n",
    "if modin_found == True:\n",
    "    import modin\n",
    "    import modin.config as cfg\n",
    "    major_version = int(modin.__version__.split(\".\")[0])\n",
    "    minor_version = int(modin.__version__.split(\".\")[1])\n",
    "    print(\"Modin Version: \", modin.__version__)\n",
    "    cfg_engine = ''\n",
    "    if minor_version > 12 and major_version == 0:\n",
    "        cfg_engine = cfg.StorageFormat.get()\n",
    "\n",
    "    else:\n",
    "        cfg_engine = cfg.Engine.get()\n",
    "    print(\"Modin Engine: \", cfg_engine)\n",
    "\n",
    "if sklearn_found == True:\n",
    "    import sklearn\n",
    "    print(\"scikit learn Version: \", sklearn.__version__)\n",
    "    if sklearnex_found == True:\n",
    "        import sklearnex\n",
    "        print(\"have scikit learn ext 2021.4 : \", sklearnex._utils.get_sklearnex_version((2021, 'P', 400)))\n",
    "\n",
    "if inc_found == True:\n",
    "    import neural_compressor as inc\n",
    "    print(\"neural_compressor version {}\".format(inc.__version__))\n",
    "\n",
    "if torchccl_found == True:\n",
    "    import oneccl_bindings_for_pytorch as torchccl\n",
    "    print(\"oneCCL Bindings version {}\".format(torchccl.__version__))\n",
    "\n",
    "\n",
    "checker = arch_checker()\n",
    "print(\"Arch : \", checker.arch)"
   ]
  },
  {
   "cell_type": "code",
   "execution_count": 48,
   "id": "eaddf51f-216b-4b24-971e-3298f6872d7d",
   "metadata": {},
   "outputs": [],
   "source": [
    "model.save('keras_model.h5')"
   ]
  },
  {
   "cell_type": "code",
   "execution_count": 49,
   "id": "c67ef7a6-f303-423b-9d90-24894bf47ae6",
   "metadata": {},
   "outputs": [],
   "source": [
    "past_100_days=data_training.tail(100)"
   ]
  },
  {
   "cell_type": "code",
   "execution_count": 50,
   "id": "734c4b1a-d8be-4a92-9941-f56cbcdfc5c8",
   "metadata": {},
   "outputs": [
    {
     "name": "stderr",
     "output_type": "stream",
     "text": [
      "/home/u188371/tmp/ipykernel_3335953/3595571042.py:1: FutureWarning: The frame.append method is deprecated and will be removed from pandas in a future version. Use pandas.concat instead.\n",
      "  final_df=past_100_days.append(data_testing,ignore_index=True)\n"
     ]
    }
   ],
   "source": [
    "final_df=past_100_days.append(data_testing,ignore_index=True)"
   ]
  },
  {
   "cell_type": "code",
   "execution_count": 51,
   "id": "b295eaa9-383e-4024-a024-6908f59583fe",
   "metadata": {},
   "outputs": [],
   "source": [
    "x_test=[]\n",
    "y_test=[]\n"
   ]
  },
  {
   "cell_type": "code",
   "execution_count": 52,
   "id": "46ab508d-4541-4327-80cf-2ed57142bda5",
   "metadata": {},
   "outputs": [],
   "source": [
    "input_data=scaler.fit_transform(final_df)"
   ]
  },
  {
   "cell_type": "code",
   "execution_count": 53,
   "id": "a8f7558e-1655-4e64-b63e-c1b98906ce38",
   "metadata": {},
   "outputs": [],
   "source": [
    "for i in range(100,input_data.shape[0]):\n",
    "    x_test.append(input_data[i-100:i])\n",
    "    y_test.append(input_data[i,0])"
   ]
  },
  {
   "cell_type": "code",
   "execution_count": 54,
   "id": "57e5c9f5-d80a-4cd4-804a-351a49b075f0",
   "metadata": {},
   "outputs": [
    {
     "name": "stdout",
     "output_type": "stream",
     "text": [
      "(1284, 100, 1)\n",
      "(1284,)\n"
     ]
    }
   ],
   "source": [
    "x_test,y_test=np.array(x_test),np.array(y_test)\n",
    "print(x_test.shape)\n",
    "print(y_test.shape)"
   ]
  },
  {
   "cell_type": "code",
   "execution_count": 55,
   "id": "a5175ee8-953a-421f-8f3e-bf32bd3281eb",
   "metadata": {},
   "outputs": [
    {
     "name": "stdout",
     "output_type": "stream",
     "text": [
      "41/41 [==============================] - 4s 82ms/step\n"
     ]
    },
    {
     "data": {
      "text/plain": [
       "(1284, 1)"
      ]
     },
     "execution_count": 55,
     "metadata": {},
     "output_type": "execute_result"
    }
   ],
   "source": [
    "y_predicted=model.predict(x_test)\n",
    "y_predicted.shape"
   ]
  },
  {
   "cell_type": "code",
   "execution_count": 56,
   "id": "a47fe20f-59b1-4b5c-8349-f84277e31cb7",
   "metadata": {},
   "outputs": [
    {
     "data": {
      "text/plain": [
       "array([0.00682936])"
      ]
     },
     "execution_count": 56,
     "metadata": {},
     "output_type": "execute_result"
    }
   ],
   "source": [
    "scaler.scale_"
   ]
  },
  {
   "cell_type": "code",
   "execution_count": 57,
   "id": "a4d04c6c-8604-4d39-bf90-7bb6e216383e",
   "metadata": {},
   "outputs": [],
   "source": [
    "scale_factor=1/0.00682936\n",
    "y_predicted=y_predicted*scale_factor\n",
    "y_test=y_test*scale_factor"
   ]
  },
  {
   "cell_type": "code",
   "execution_count": 58,
   "id": "18c96b82-5efd-48e2-bb55-69a8d07b88f6",
   "metadata": {},
   "outputs": [
    {
     "data": {
      "image/png": "[encoded data removed]",
      "text/plain": [
       "<Figure size 1600x800 with 1 Axes>"
      ]
     },
     "metadata": {},
     "output_type": "display_data"
    }
   ],
   "source": [
    "plt.figure(figsize=(16,8))\n",
    "plt.plot(y_test,'b',label='Original_Price' )\n",
    "plt.plot(y_predicted,'r',label='Predicted_Price')\n",
    "plt.xlabel('Time')\n",
    "plt.ylabel('Price')\n",
    "plt.legend()\n",
    "plt.show()"
   ]
  },
  {
   "cell_type": "code",
   "execution_count": 59,
   "id": "687c7760-1626-4408-95ad-ed081d4de3d2",
   "metadata": {},
   "outputs": [
    {
     "name": "stdout",
     "output_type": "stream",
     "text": [
      "Defaulting to user installation because normal site-packages is not writeable\n",
      "Collecting streamlit\n",
      "  Downloading streamlit-1.20.0-py2.py3-none-any.whl (9.6 MB)\n",
      "\u001b[2K     \u001b[90m━━━━━━━━━━━━━━━━━━━━━━━━━━━━━━━━━━━━━━━━\u001b[0m \u001b[32m9.6/9.6 MB\u001b[0m \u001b[31m3.8 MB/s\u001b[0m eta \u001b[36m0:00:00\u001b[0m00:01\u001b[0m00:01\u001b[0m\n",
      "\u001b[?25hCollecting toml\n",
      "  Downloading toml-0.10.2-py2.py3-none-any.whl (16 kB)\n",
      "Requirement already satisfied: importlib-metadata>=1.4 in /glob/development-tools/versions/oneapi/2023.0.1/oneapi/intelpython/python3.9/lib/python3.9/site-packages (from streamlit) (6.0.0)\n",
      "Requirement already satisfied: python-dateutil in /glob/development-tools/versions/oneapi/2023.0.1/oneapi/intelpython/python3.9/lib/python3.9/site-packages (from streamlit) (2.8.2)\n",
      "Requirement already satisfied: cachetools>=4.0 in ./.local/lib/python3.9/site-packages (from streamlit) (5.3.0)\n",
      "Requirement already satisfied: pandas<2,>=0.25 in /glob/development-tools/versions/oneapi/2023.0.1/oneapi/intelpython/python3.9/lib/python3.9/site-packages (from streamlit) (1.5.1)\n",
      "Collecting pydeck>=0.1.dev5\n",
      "  Downloading pydeck-0.8.0-py2.py3-none-any.whl (4.7 MB)\n",
      "\u001b[2K     \u001b[90m━━━━━━━━━━━━━━━━━━━━━━━━━━━━━━━━━━━━━━━━\u001b[0m \u001b[32m4.7/4.7 MB\u001b[0m \u001b[31m3.8 MB/s\u001b[0m eta \u001b[36m0:00:00\u001b[0m00:01\u001b[0m00:01\u001b[0m\n",
      "\u001b[?25hCollecting gitpython!=3.1.19\n",
      "  Downloading GitPython-3.1.31-py3-none-any.whl (184 kB)\n",
      "\u001b[2K     \u001b[90m━━━━━━━━━━━━━━━━━━━━━━━━━━━━━━━━━━━━━━━\u001b[0m \u001b[32m184.3/184.3 kB\u001b[0m \u001b[31m3.2 MB/s\u001b[0m eta \u001b[36m0:00:00\u001b[0ma \u001b[36m0:00:01\u001b[0m\n",
      "\u001b[?25hRequirement already satisfied: packaging>=14.1 in /glob/development-tools/versions/oneapi/2023.0.1/oneapi/intelpython/python3.9/lib/python3.9/site-packages (from streamlit) (21.3)\n",
      "Collecting validators>=0.2\n",
      "  Downloading validators-0.20.0.tar.gz (30 kB)\n",
      "  Preparing metadata (setup.py) ... \u001b[?25ldone\n",
      "\u001b[?25hRequirement already satisfied: protobuf<4,>=3.12 in ./.local/lib/python3.9/site-packages (from streamlit) (3.19.6)\n",
      "Requirement already satisfied: tornado>=6.0.3 in /glob/development-tools/versions/oneapi/2023.0.1/oneapi/intelpython/python3.9/lib/python3.9/site-packages (from streamlit) (6.2)\n",
      "Collecting rich>=10.11.0\n",
      "  Downloading rich-13.3.2-py3-none-any.whl (238 kB)\n",
      "\u001b[2K     \u001b[90m━━━━━━━━━━━━━━━━━━━━━━━━━━━━━━━━━━━━━━━\u001b[0m \u001b[32m238.7/238.7 kB\u001b[0m \u001b[31m3.3 MB/s\u001b[0m eta \u001b[36m0:00:00\u001b[0ma \u001b[36m0:00:01\u001b[0m\n",
      "\u001b[?25hCollecting semver\n",
      "  Downloading semver-2.13.0-py2.py3-none-any.whl (12 kB)\n",
      "Requirement already satisfied: pillow>=6.2.0 in /glob/development-tools/versions/oneapi/2023.0.1/oneapi/intelpython/python3.9/lib/python3.9/site-packages (from streamlit) (9.4.0)\n",
      "Collecting tzlocal>=1.1\n",
      "  Downloading tzlocal-4.2-py3-none-any.whl (19 kB)\n",
      "Collecting pympler>=0.9\n",
      "  Downloading Pympler-1.0.1-py3-none-any.whl (164 kB)\n",
      "\u001b[2K     \u001b[90m━━━━━━━━━━━━━━━━━━━━━━━━━━━━━━━━━━━━━━━\u001b[0m \u001b[32m164.8/164.8 kB\u001b[0m \u001b[31m3.3 MB/s\u001b[0m eta \u001b[36m0:00:00\u001b[0m00:01\u001b[0m\n",
      "\u001b[?25hCollecting watchdog\n",
      "  Downloading watchdog-2.3.1-py3-none-manylinux2014_x86_64.whl (80 kB)\n",
      "\u001b[2K     \u001b[90m━━━━━━━━━━━━━━━━━━━━━━━━━━━━━━━━━━━━━━━━\u001b[0m \u001b[32m80.6/80.6 kB\u001b[0m \u001b[31m2.8 MB/s\u001b[0m eta \u001b[36m0:00:00\u001b[0m\n",
      "\u001b[?25hRequirement already satisfied: requests>=2.4 in /glob/development-tools/versions/oneapi/2023.0.1/oneapi/intelpython/python3.9/lib/python3.9/site-packages (from streamlit) (2.28.1)\n",
      "Collecting blinker>=1.0.0\n",
      "  Downloading blinker-1.5-py2.py3-none-any.whl (12 kB)\n",
      "Requirement already satisfied: numpy in /glob/development-tools/versions/oneapi/2023.0.1/oneapi/intelpython/python3.9/lib/python3.9/site-packages (from streamlit) (1.22.3)\n",
      "Collecting pyarrow>=4.0\n",
      "  Downloading pyarrow-11.0.0-cp39-cp39-manylinux_2_17_x86_64.manylinux2014_x86_64.whl (34.9 MB)\n",
      "\u001b[2K     \u001b[90m━━━━━━━━━━━━━━━━━━━━━━━━━━━━━━━━━━━━━━━━\u001b[0m \u001b[32m34.9/34.9 MB\u001b[0m \u001b[31m3.2 MB/s\u001b[0m eta \u001b[36m0:00:00\u001b[0m00:01\u001b[0m00:01\u001b[0m\n",
      "\u001b[?25hRequirement already satisfied: typing-extensions>=3.10.0.0 in ./.local/lib/python3.9/site-packages (from streamlit) (4.5.0)\n",
      "Collecting altair<5,>=3.2.0\n",
      "  Downloading altair-4.2.2-py3-none-any.whl (813 kB)\n",
      "\u001b[2K     \u001b[90m━━━━━━━━━━━━━━━━━━━━━━━━━━━━━━━━━━━━━━━\u001b[0m \u001b[32m813.6/813.6 kB\u001b[0m \u001b[31m3.6 MB/s\u001b[0m eta \u001b[36m0:00:00\u001b[0m00:01\u001b[0m00:01\u001b[0m\n",
      "\u001b[?25hCollecting click>=7.0\n",
      "  Downloading click-8.1.3-py3-none-any.whl (96 kB)\n",
      "\u001b[2K     \u001b[90m━━━━━━━━━━━━━━━━━━━━━━━━━━━━━━━━━━━━━━━━\u001b[0m \u001b[32m96.6/96.6 kB\u001b[0m \u001b[31m2.8 MB/s\u001b[0m eta \u001b[36m0:00:00\u001b[0m\n",
      "\u001b[?25hCollecting entrypoints\n",
      "  Downloading entrypoints-0.4-py3-none-any.whl (5.3 kB)\n",
      "Collecting toolz\n",
      "  Downloading toolz-0.12.0-py3-none-any.whl (55 kB)\n",
      "\u001b[2K     \u001b[90m━━━━━━━━━━━━━━━━━━━━━━━━━━━━━━━━━━━━━━━━\u001b[0m \u001b[32m55.8/55.8 kB\u001b[0m \u001b[31m2.2 MB/s\u001b[0m eta \u001b[36m0:00:00\u001b[0m\n",
      "\u001b[?25hCollecting jinja2\n",
      "  Downloading Jinja2-3.1.2-py3-none-any.whl (133 kB)\n",
      "\u001b[2K     \u001b[90m━━━━━━━━━━━━━━━━━━━━━━━━━━━━━━━━━━━━━━━\u001b[0m \u001b[32m133.1/133.1 kB\u001b[0m \u001b[31m3.2 MB/s\u001b[0m eta \u001b[36m0:00:00\u001b[0ma \u001b[36m0:00:01\u001b[0m\n",
      "\u001b[?25hCollecting jsonschema>=3.0\n",
      "  Downloading jsonschema-4.17.3-py3-none-any.whl (90 kB)\n",
      "\u001b[2K     \u001b[90m━━━━━━━━━━━━━━━━━━━━━━━━━━━━━━━━━━━━━━━━\u001b[0m \u001b[32m90.4/90.4 kB\u001b[0m \u001b[31m2.9 MB/s\u001b[0m eta \u001b[36m0:00:00\u001b[0m\n",
      "\u001b[?25hCollecting gitdb<5,>=4.0.1\n",
      "  Downloading gitdb-4.0.10-py3-none-any.whl (62 kB)\n",
      "\u001b[2K     \u001b[90m━━━━━━━━━━━━━━━━━━━━━━━━━━━━━━━━━━━━━━━━\u001b[0m \u001b[32m62.7/62.7 kB\u001b[0m \u001b[31m2.7 MB/s\u001b[0m eta \u001b[36m0:00:00\u001b[0m\n",
      "\u001b[?25hRequirement already satisfied: zipp>=0.5 in /glob/development-tools/versions/oneapi/2023.0.1/oneapi/intelpython/python3.9/lib/python3.9/site-packages (from importlib-metadata>=1.4->streamlit) (3.12.0)\n",
      "Requirement already satisfied: pyparsing!=3.0.5,>=2.0.2 in /glob/development-tools/versions/oneapi/2023.0.1/oneapi/intelpython/python3.9/lib/python3.9/site-packages (from packaging>=14.1->streamlit) (3.0.9)\n",
      "Requirement already satisfied: pytz>=2020.1 in ./.local/lib/python3.9/site-packages (from pandas<2,>=0.25->streamlit) (2022.7.1)\n",
      "Requirement already satisfied: six>=1.5 in /glob/development-tools/versions/oneapi/2023.0.1/oneapi/intelpython/python3.9/lib/python3.9/site-packages (from python-dateutil->streamlit) (1.16.0)\n",
      "Requirement already satisfied: idna<4,>=2.5 in /glob/development-tools/versions/oneapi/2023.0.1/oneapi/intelpython/python3.9/lib/python3.9/site-packages (from requests>=2.4->streamlit) (3.4)\n",
      "Requirement already satisfied: certifi>=2017.4.17 in /glob/development-tools/versions/oneapi/2023.0.1/oneapi/intelpython/python3.9/lib/python3.9/site-packages (from requests>=2.4->streamlit) (2022.9.24)\n",
      "Requirement already satisfied: charset-normalizer<3,>=2 in /glob/development-tools/versions/oneapi/2023.0.1/oneapi/intelpython/python3.9/lib/python3.9/site-packages (from requests>=2.4->streamlit) (2.0.4)\n",
      "Requirement already satisfied: urllib3<1.27,>=1.21.1 in /glob/development-tools/versions/oneapi/2023.0.1/oneapi/intelpython/python3.9/lib/python3.9/site-packages (from requests>=2.4->streamlit) (1.26.12)\n",
      "Requirement already satisfied: pygments<3.0.0,>=2.13.0 in /glob/development-tools/versions/oneapi/2023.0.1/oneapi/intelpython/python3.9/lib/python3.9/site-packages (from rich>=10.11.0->streamlit) (2.14.0)\n",
      "Collecting markdown-it-py<3.0.0,>=2.2.0\n",
      "  Downloading markdown_it_py-2.2.0-py3-none-any.whl (84 kB)\n",
      "\u001b[2K     \u001b[90m━━━━━━━━━━━━━━━━━━━━━━━━━━━━━━━━━━━━━━━━\u001b[0m \u001b[32m84.5/84.5 kB\u001b[0m \u001b[31m2.5 MB/s\u001b[0m eta \u001b[36m0:00:00\u001b[0m\n",
      "\u001b[?25hCollecting pytz-deprecation-shim\n",
      "  Downloading pytz_deprecation_shim-0.1.0.post0-py2.py3-none-any.whl (15 kB)\n",
      "Requirement already satisfied: decorator>=3.4.0 in /glob/development-tools/versions/oneapi/2023.0.1/oneapi/intelpython/python3.9/lib/python3.9/site-packages (from validators>=0.2->streamlit) (5.1.1)\n",
      "Collecting smmap<6,>=3.0.1\n",
      "  Downloading smmap-5.0.0-py3-none-any.whl (24 kB)\n",
      "Requirement already satisfied: MarkupSafe>=2.0 in ./.local/lib/python3.9/site-packages (from jinja2->altair<5,>=3.2.0->streamlit) (2.1.2)\n",
      "Collecting attrs>=17.4.0\n",
      "  Downloading attrs-22.2.0-py3-none-any.whl (60 kB)\n",
      "\u001b[2K     \u001b[90m━━━━━━━━━━━━━━━━━━━━━━━━━━━━━━━━━━━━━━━━\u001b[0m \u001b[32m60.0/60.0 kB\u001b[0m \u001b[31m2.3 MB/s\u001b[0m eta \u001b[36m0:00:00\u001b[0m\n",
      "\u001b[?25hCollecting pyrsistent!=0.17.0,!=0.17.1,!=0.17.2,>=0.14.0\n",
      "  Downloading pyrsistent-0.19.3-py3-none-any.whl (57 kB)\n",
      "\u001b[2K     \u001b[90m━━━━━━━━━━━━━━━━━━━━━━━━━━━━━━━━━━━━━━━━\u001b[0m \u001b[32m57.5/57.5 kB\u001b[0m \u001b[31m2.2 MB/s\u001b[0m eta \u001b[36m0:00:00\u001b[0m\n",
      "\u001b[?25hCollecting mdurl~=0.1\n",
      "  Downloading mdurl-0.1.2-py3-none-any.whl (10.0 kB)\n",
      "Collecting tzdata\n",
      "  Downloading tzdata-2022.7-py2.py3-none-any.whl (340 kB)\n",
      "\u001b[2K     \u001b[90m━━━━━━━━━━━━━━━━━━━━━━━━━━━━━━━━━━━━━━━\u001b[0m \u001b[32m340.1/340.1 kB\u001b[0m \u001b[31m3.4 MB/s\u001b[0m eta \u001b[36m0:00:00\u001b[0ma \u001b[36m0:00:01\u001b[0m\n",
      "\u001b[?25hBuilding wheels for collected packages: validators\n",
      "  Building wheel for validators (setup.py) ... \u001b[?25ldone\n",
      "\u001b[?25h  Created wheel for validators: filename=validators-0.20.0-py3-none-any.whl size=19579 sha256=97c583821f8653a94b71c28904560ff090602ffb4b019a21bc2622302b4dc927\n",
      "  Stored in directory: /home/u188371/.cache/pip/wheels/2d/f0/a8/1094fca7a7e5d0d12ff56e0c64675d72aa5cc81a5fc200e849\n",
      "Successfully built validators\n",
      "Installing collected packages: watchdog, validators, tzdata, toolz, toml, smmap, semver, pyrsistent, pympler, pyarrow, mdurl, jinja2, entrypoints, click, blinker, attrs, pytz-deprecation-shim, pydeck, markdown-it-py, jsonschema, gitdb, tzlocal, rich, gitpython, altair, streamlit\n",
      "Successfully installed altair-4.2.2 attrs-22.2.0 blinker-1.5 click-8.1.3 entrypoints-0.4 gitdb-4.0.10 gitpython-3.1.31 jinja2-3.1.2 jsonschema-4.17.3 markdown-it-py-2.2.0 mdurl-0.1.2 pyarrow-11.0.0 pydeck-0.8.0 pympler-1.0.1 pyrsistent-0.19.3 pytz-deprecation-shim-0.1.0.post0 rich-13.3.2 semver-2.13.0 smmap-5.0.0 streamlit-1.20.0 toml-0.10.2 toolz-0.12.0 tzdata-2022.7 tzlocal-4.2 validators-0.20.0 watchdog-2.3.1\n",
      "Note: you may need to restart the kernel to use updated packages.\n"
     ]
    }
   ],
   "source": [
    "pip install streamlit"
   ]
  },
  {
   "cell_type": "code",
   "execution_count": null,
   "id": "07b16916-eceb-4e2f-80e1-e6c42a044cb4",
   "metadata": {},
   "outputs": [],
   "source": [
    "import streamlit as "
   ]
  }
 ],
 "metadata": {
  "kernelspec": {
   "display_name": "Python 3 (Intel® oneAPI 2023.0)",
   "language": "python",
   "name": "c009-intel_distribution_of_python_3_oneapi-beta05-python"
  },
  "language_info": {
   "codemirror_mode": {
    "name": "ipython",
    "version": 3
   },
   "file_extension": ".py",
   "mimetype": "text/x-python",
   "name": "python",
   "nbconvert_exporter": "python",
   "pygments_lexer": "ipython3",
   "version": "3.9.15"
  }
 },
 "nbformat": 4,
 "nbformat_minor": 5
}
